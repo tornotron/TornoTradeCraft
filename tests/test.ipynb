{
 "cells": [
  {
   "cell_type": "code",
   "execution_count": 2,
   "id": "d46e73cc",
   "metadata": {},
   "outputs": [],
   "source": [
    "from pathlib import Path\n",
    "import sys\n",
    "\n",
    "# add parent directory to sys.path so local modules there can be imported\n",
    "\n",
    "parent_dir = str(Path.cwd().resolve().parent)\n",
    "if parent_dir not in sys.path:\n",
    "    sys.path.insert(0, parent_dir)"
   ]
  },
  {
   "cell_type": "code",
   "execution_count": 3,
   "id": "64916fa6",
   "metadata": {},
   "outputs": [],
   "source": [
    "from tornotradingcraft.utils import update_asset_file"
   ]
  },
  {
   "cell_type": "code",
   "execution_count": 4,
   "id": "8efdb8d6",
   "metadata": {},
   "outputs": [
    {
     "data": {
      "text/plain": [
       "'/home/abhijith/Dev/Trading-Framework/tornotradingcraft/assets/Nasdaq.parquet'"
      ]
     },
     "execution_count": 4,
     "metadata": {},
     "output_type": "execute_result"
    }
   ],
   "source": [
    "# update_asset_file(file_path=\"./test_data/YahooTickerSymbols.xlsx\", parquet_name=\"YahooFinance\")\n",
    "update_asset_file(file_path=\"./test_data/Nifty50-Tickers.csv\", parquet_name=\"Nifty50\")\n",
    "update_asset_file(file_path=\"./test_data/nasdaq_tickers.csv\", parquet_name=\"Nasdaq\")"
   ]
  },
  {
   "cell_type": "code",
   "execution_count": 9,
   "id": "9c875138",
   "metadata": {},
   "outputs": [],
   "source": [
    "\n",
    "from tornotradingcraft.providers import YahooFinanceProvider\n",
    "\n",
    "provider = YahooFinanceProvider()\n",
    "symbols = provider.get_supported_symbols()\n"
   ]
  },
  {
   "cell_type": "code",
   "execution_count": null,
   "id": "ae27f008",
   "metadata": {},
   "outputs": [
    {
     "data": {
      "text/plain": [
       "0"
      ]
     },
     "execution_count": 10,
     "metadata": {},
     "output_type": "execute_result"
    }
   ],
   "source": [
    "len(symbols)  # noqa: E501 "
   ]
  },
  {
   "cell_type": "code",
   "execution_count": null,
   "id": "dda81dd2",
   "metadata": {},
   "outputs": [],
   "source": []
  }
 ],
 "metadata": {
  "kernelspec": {
   "display_name": "trading",
   "language": "python",
   "name": "python3"
  },
  "language_info": {
   "codemirror_mode": {
    "name": "ipython",
    "version": 3
   },
   "file_extension": ".py",
   "mimetype": "text/x-python",
   "name": "python",
   "nbconvert_exporter": "python",
   "pygments_lexer": "ipython3",
   "version": "3.11.13"
  }
 },
 "nbformat": 4,
 "nbformat_minor": 5
}
